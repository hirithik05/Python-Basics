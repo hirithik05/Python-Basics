{
 "cells": [
  {
   "cell_type": "code",
   "execution_count": null,
   "metadata": {},
   "outputs": [],
   "source": []
  }
 ],
 "metadata": {
  "kernelspec": {
   "display_name": "Python 3.10.5 64-bit",
   "language": "python",
   "name": "python3"
  },
  "language_info": {
   "name": "python",
   "version": "3.10.5"
  },
  "orig_nbformat": 4,
  "vscode": {
   "interpreter": {
    "hash": "a2d04f74d3417e095d9429d5890cfec1e5e98c71527bd8a2c97f9c7e4bee0750"
   }
  }
 },
 "nbformat": 4,
 "nbformat_minor": 2
}
